{
 "cells": [
  {
   "cell_type": "markdown",
   "metadata": {},
   "source": [
    "# feat2vec example\n",
    "\n",
    "This script shows a minimum working example for the feat2vec library. feat2vec learns dense vectors for all types of features used in data science- categories, real-valued variables, even images or text. It is an answer to word2vec's widespread usage for vector representation of things that are not really words. It can group \"similar columns\" into single features that have a more sensible interpretation (for example, a 10-dimensional matrix indicating what genres a movie might belong to can be aggregated to a single \"genre\" embedding). We use Factorization Machines and a novel sampling algorithm to generate these data. Please see the PDF in the repo for detailed technical explanation of our learning method.\n",
    "\n",
    "It is built primarily on pandas, numpy, and keras. Below we show a minimum working example"
   ]
  },
  {
   "cell_type": "code",
   "execution_count": 1,
   "metadata": {
    "collapsed": false
   },
   "outputs": [
    {
     "name": "stderr",
     "output_type": "stream",
     "text": [
      "Using TensorFlow backend.\n"
     ]
    }
   ],
   "source": [
    "import numpy as np\n",
    "import pandas as pd\n",
    "import tensorflow as tf\n",
    "import os,sys\n",
    "import keras\n",
    "import feat2vec\n",
    "import matplotlib.pyplot as plt\n",
    "from feat2vec import DeepFM\n",
    "import implicitsampler\n",
    "reload(implicitsampler)\n",
    "from implicitsampler import ImplicitSampler"
   ]
  },
  {
   "cell_type": "markdown",
   "metadata": {},
   "source": [
    "Set some important hyperparameters"
   ]
  },
  {
   "cell_type": "code",
   "execution_count": 2,
   "metadata": {
    "collapsed": true
   },
   "outputs": [],
   "source": [
    "np.random.seed(1)\n",
    "samplesize = 100000 #number of records\n",
    "batch_size=2000 #number of positive labels per batch\n",
    "neg_samples=5 #number of negative labels per batch\n",
    "embed_dim = 100 #dimensionality of embeddings to learn"
   ]
  },
  {
   "cell_type": "markdown",
   "metadata": {},
   "source": [
    "Generate some fake data in a pandas df, including a latent variable that generates a binary variable to create a correlation structure "
   ]
  },
  {
   "cell_type": "code",
   "execution_count": 3,
   "metadata": {
    "collapsed": false
   },
   "outputs": [],
   "source": [
    "attrs = np.random.multivariate_normal(mean = np.array([0.,0.]), cov = np.array([[1.,.1],[.1,1]]),size=samplesize)\n",
    "data = pd.DataFrame({ 'id': np.random.randint(0,50,size=samplesize),\n",
    "                          'attr1':attrs[:,0],\n",
    "                          'attr2':attrs[:,1],\n",
    "                          'attr3': np.random.uniform(size=samplesize),\n",
    "\t\t\t\t\t\t  'offset_':np.zeros(samplesize)\n",
    "\t})\n",
    "\n",
    "data['item'] = np.round(data.id%10 + np.random.normal(0,.5,size=samplesize))\n",
    "data.loc[data.item >=9,'item'] = 9\n",
    "data.loc[data.item <=0,'item'] = 0\n",
    "\n",
    "data['latenty'] = ( (data.attr3)**4/600. + np.exp(data.attr1*data.attr2) \\\n",
    "                       + (data.item<=3)*np.pi - ((data.item==2) | (data.item==4))*data.attr3 \\\n",
    "                       + ((data.item==8) | (data.item==7) )*data.attr2 \\\n",
    "                       + (data.item>=6)*data.attr1 + (data.id%3)*data.attr3 \\\n",
    "                       + np.random.normal(size=samplesize) - 5 )\n",
    "data.loc[np.abs(data['latenty']) >= 10,'latenty'] = 0\n",
    "data['y'] = (data[\"latenty\"] > 0).astype(int) #  np.floor(data.latenty)\n",
    "dim_y = len(pd.unique(data.y))"
   ]
  },
  {
   "cell_type": "code",
   "execution_count": 4,
   "metadata": {
    "collapsed": false
   },
   "outputs": [
    {
     "data": {
      "text/plain": [
       "0    79897\n",
       "1    20103\n",
       "Name: y, dtype: int64"
      ]
     },
     "execution_count": 4,
     "metadata": {},
     "output_type": "execute_result"
    }
   ],
   "source": [
    "data[\"y\"].value_counts()"
   ]
  },
  {
   "cell_type": "code",
   "execution_count": 5,
   "metadata": {
    "collapsed": false
   },
   "outputs": [
    {
     "data": {
      "text/html": [
       "<div>\n",
       "<style scoped>\n",
       "    .dataframe tbody tr th:only-of-type {\n",
       "        vertical-align: middle;\n",
       "    }\n",
       "\n",
       "    .dataframe tbody tr th {\n",
       "        vertical-align: top;\n",
       "    }\n",
       "\n",
       "    .dataframe thead th {\n",
       "        text-align: right;\n",
       "    }\n",
       "</style>\n",
       "<table border=\"1\" class=\"dataframe\">\n",
       "  <thead>\n",
       "    <tr style=\"text-align: right;\">\n",
       "      <th></th>\n",
       "      <th>attr1</th>\n",
       "      <th>attr2</th>\n",
       "      <th>attr3</th>\n",
       "      <th>id</th>\n",
       "      <th>offset_</th>\n",
       "      <th>item</th>\n",
       "      <th>latenty</th>\n",
       "      <th>y</th>\n",
       "    </tr>\n",
       "  </thead>\n",
       "  <tbody>\n",
       "    <tr>\n",
       "      <th>0</th>\n",
       "      <td>-0.794268</td>\n",
       "      <td>-1.615025</td>\n",
       "      <td>0.127423</td>\n",
       "      <td>35</td>\n",
       "      <td>0.0</td>\n",
       "      <td>5.0</td>\n",
       "      <td>0.654092</td>\n",
       "      <td>1</td>\n",
       "    </tr>\n",
       "    <tr>\n",
       "      <th>1</th>\n",
       "      <td>1.111472</td>\n",
       "      <td>-0.328067</td>\n",
       "      <td>0.139565</td>\n",
       "      <td>9</td>\n",
       "      <td>0.0</td>\n",
       "      <td>9.0</td>\n",
       "      <td>-4.826574</td>\n",
       "      <td>0</td>\n",
       "    </tr>\n",
       "    <tr>\n",
       "      <th>2</th>\n",
       "      <td>0.902116</td>\n",
       "      <td>-2.185723</td>\n",
       "      <td>0.334804</td>\n",
       "      <td>17</td>\n",
       "      <td>0.0</td>\n",
       "      <td>8.0</td>\n",
       "      <td>-5.791192</td>\n",
       "      <td>0</td>\n",
       "    </tr>\n",
       "    <tr>\n",
       "      <th>3</th>\n",
       "      <td>-0.783354</td>\n",
       "      <td>-1.804620</td>\n",
       "      <td>0.778878</td>\n",
       "      <td>28</td>\n",
       "      <td>0.0</td>\n",
       "      <td>8.0</td>\n",
       "      <td>-2.534848</td>\n",
       "      <td>0</td>\n",
       "    </tr>\n",
       "    <tr>\n",
       "      <th>4</th>\n",
       "      <td>-0.069323</td>\n",
       "      <td>-0.403888</td>\n",
       "      <td>0.179108</td>\n",
       "      <td>13</td>\n",
       "      <td>0.0</td>\n",
       "      <td>4.0</td>\n",
       "      <td>-3.803285</td>\n",
       "      <td>0</td>\n",
       "    </tr>\n",
       "  </tbody>\n",
       "</table>\n",
       "</div>"
      ],
      "text/plain": [
       "      attr1     attr2     attr3  id  offset_  item   latenty  y\n",
       "0 -0.794268 -1.615025  0.127423  35      0.0   5.0  0.654092  1\n",
       "1  1.111472 -0.328067  0.139565   9      0.0   9.0 -4.826574  0\n",
       "2  0.902116 -2.185723  0.334804  17      0.0   8.0 -5.791192  0\n",
       "3 -0.783354 -1.804620  0.778878  28      0.0   8.0 -2.534848  0\n",
       "4 -0.069323 -0.403888  0.179108  13      0.0   4.0 -3.803285  0"
      ]
     },
     "execution_count": 5,
     "metadata": {},
     "output_type": "execute_result"
    }
   ],
   "source": [
    "data.head()"
   ]
  },
  {
   "cell_type": "markdown",
   "metadata": {},
   "source": [
    "Define what features we are going to use and how we are going to use them\n",
    "Some important things to note here:\n",
    "* Each item in the model_features list will be represented as a dense vector that learns similarities by interacting with all other model features.At the moment, we can pass multiple columns as a single model feature, but this is only available to for real valued features (not categories)\n",
    "* Each item in the sampling_features list represents a unique feature of data that should be sampled together for the oversampling method . For example, one might want to sample car model and car manufacturer together because other combinations are not only not observed in the data, they are entirely nonsensical. sampling_features do not need to coincide with model features (i.e. a researcher might still feel its important to learn separate embeddings for make and model of a car)\n",
    "* features is a list of what we call the model_features in the keras model layers\n",
    "* We pass most arguments to feat2vec as a list of lists, and often each sub-list only has one element. this is necessary because it is possible to have multiple elements in a single \"feature\". \n",
    "* We aggregate attr1,attr2,attr3 into a single \"feature\" called attrs. The idea is these features all represent at a high level one characteristic of each observation, and so should be grouped together. One might imagine in a real world setting, aggregating latitude and longitude into a single \"location\" feature\n",
    "*"
   ]
  },
  {
   "cell_type": "code",
   "execution_count": 6,
   "metadata": {
    "collapsed": true
   },
   "outputs": [],
   "source": [
    "features = ['item','id','attrs','y','offset']\n",
    "model_features = [['item'],['id'],['attr1','attr2','attr3'],['y'],['offset_']]\n",
    "sampling_features = [['item'],['id'],['attr1','attr2','attr3'],['y']]"
   ]
  },
  {
   "cell_type": "markdown",
   "metadata": {},
   "source": [
    "Define how we are going to use the features in the model; specifically, whether to learn biases or embeddings only. typically, we want do not want to learn bias terms since these are not straightforward to import to external applications. Here we only learn embeddings for everything except the intercept term (offset\\_) which we keep to \n",
    "modify the average level of the score function. both bias_only and embeddings_only except an ordered boolean list where positionally they correspond to each feature listed in model_features\n",
    "\n",
    "also pass a realvalued bool list which tells our model whether we should treat the inputs as discrete categories or real-valued scalar numbers\n",
    "\n",
    "finally, feature\\_dims refers to the dimensionality of each feature. for discrete categories, this is the total # of categories. for realvalued features, this is the number of columns (i.e. for attrs it is 3)"
   ]
  },
  {
   "cell_type": "code",
   "execution_count": 7,
   "metadata": {
    "collapsed": true
   },
   "outputs": [],
   "source": [
    "bias_only = [False]*len(model_features)\n",
    "bias_only[ features.index('offset') ] =True\n",
    "embeddings_only = [True]*len(model_features)\n",
    "embeddings_only[ features.index('offset') ] =False\n",
    "realvalued = [False]*len(model_features)\n",
    "realvalued[ features.index('attrs') ] =True\n",
    "feature_dims = [10,50,3,dim_y,1]"
   ]
  },
  {
   "cell_type": "markdown",
   "metadata": {},
   "source": [
    "# build the feat2vec model in keras\n",
    "note we specify noise contrastive estimation as the objective; negative sampling is also available but disencouraged"
   ]
  },
  {
   "cell_type": "code",
   "execution_count": 8,
   "metadata": {
    "collapsed": false
   },
   "outputs": [
    {
     "name": "stdout",
     "output_type": "stream",
     "text": [
      "shallow\n",
      "____________________________________________________________________________________________________\n",
      "Layer (type)                     Output Shape          Param #     Connected to                     \n",
      "====================================================================================================\n",
      "item (InputLayer)                (None, 1)             0                                            \n",
      "____________________________________________________________________________________________________\n",
      "id (InputLayer)                  (None, 1)             0                                            \n",
      "____________________________________________________________________________________________________\n",
      "y (InputLayer)                   (None, 1)             0                                            \n",
      "____________________________________________________________________________________________________\n",
      "embedding_item (Embedding)       (None, 1, 100)        1000        item[0][0]                       \n",
      "____________________________________________________________________________________________________\n",
      "embedding_id (Embedding)         (None, 1, 100)        5000        id[0][0]                         \n",
      "____________________________________________________________________________________________________\n",
      "embedding_y (Embedding)          (None, 1, 100)        200         y[0][0]                          \n",
      "____________________________________________________________________________________________________\n",
      "unmasker_item (Lambda)           (None, 1, 100)        0           embedding_item[0][0]             \n",
      "____________________________________________________________________________________________________\n",
      "unmasker_id (Lambda)             (None, 1, 100)        0           embedding_id[0][0]               \n",
      "____________________________________________________________________________________________________\n",
      "attrs (InputLayer)               (None, 3)             0                                            \n",
      "____________________________________________________________________________________________________\n",
      "unmasker_y (Lambda)              (None, 1, 100)        0           embedding_y[0][0]                \n",
      "____________________________________________________________________________________________________\n",
      "offset (InputLayer)              (None, 1)             0                                            \n",
      "____________________________________________________________________________________________________\n",
      "embedding_item_reshaped (Reshape (None, 100)           0           unmasker_item[0][0]              \n",
      "____________________________________________________________________________________________________\n",
      "embedding_id_reshaped (Reshape)  (None, 100)           0           unmasker_id[0][0]                \n",
      "____________________________________________________________________________________________________\n",
      "embedding_attrs (Dense)          (None, 100)           300         attrs[0][0]                      \n",
      "____________________________________________________________________________________________________\n",
      "embedding_y_reshaped (Reshape)   (None, 100)           0           unmasker_y[0][0]                 \n",
      "____________________________________________________________________________________________________\n",
      "bias_offset (Embedding)          (None, 1, 1)          1           offset[0][0]                     \n",
      "____________________________________________________________________________________________________\n",
      "interaction_itemXid (Dot)        (None, 1)             0           embedding_item_reshaped[0][0]    \n",
      "                                                                   embedding_id_reshaped[0][0]      \n",
      "____________________________________________________________________________________________________\n",
      "interaction_itemXattrs (Dot)     (None, 1)             0           embedding_item_reshaped[0][0]    \n",
      "                                                                   embedding_attrs[0][0]            \n",
      "____________________________________________________________________________________________________\n",
      "interaction_itemXy (Dot)         (None, 1)             0           embedding_item_reshaped[0][0]    \n",
      "                                                                   embedding_y_reshaped[0][0]       \n",
      "____________________________________________________________________________________________________\n",
      "interaction_idXattrs (Dot)       (None, 1)             0           embedding_id_reshaped[0][0]      \n",
      "                                                                   embedding_attrs[0][0]            \n",
      "____________________________________________________________________________________________________\n",
      "interaction_idXy (Dot)           (None, 1)             0           embedding_id_reshaped[0][0]      \n",
      "                                                                   embedding_y_reshaped[0][0]       \n",
      "____________________________________________________________________________________________________\n",
      "interaction_attrsXy (Dot)        (None, 1)             0           embedding_attrs[0][0]            \n",
      "                                                                   embedding_y_reshaped[0][0]       \n",
      "____________________________________________________________________________________________________\n",
      "bias_offset_reshaped (Reshape)   (None, 1)             0           bias_offset[0][0]                \n",
      "____________________________________________________________________________________________________\n",
      "factors_term (Add)               (None, 1)             0           interaction_itemXid[0][0]        \n",
      "                                                                   interaction_itemXattrs[0][0]     \n",
      "                                                                   interaction_itemXy[0][0]         \n",
      "                                                                   interaction_idXattrs[0][0]       \n",
      "                                                                   interaction_idXy[0][0]           \n",
      "                                                                   interaction_attrsXy[0][0]        \n",
      "____________________________________________________________________________________________________\n",
      "output_layer (Add)               (None, 1)             0           bias_offset_reshaped[0][0]       \n",
      "                                                                   factors_term[0][0]               \n",
      "____________________________________________________________________________________________________\n",
      "noise_probs (InputLayer)         (None, 1)             0                                            \n",
      "____________________________________________________________________________________________________\n",
      "nce_obj (Lambda)                 (None, 1)             0           output_layer[0][0]               \n",
      "                                                                   noise_probs[0][0]                \n",
      "====================================================================================================\n",
      "Total params: 6,501\n",
      "Trainable params: 6,501\n",
      "Non-trainable params: 0\n",
      "____________________________________________________________________________________________________\n",
      "None\n"
     ]
    }
   ],
   "source": [
    "feat2vec_obj = DeepFM(model_features, feature_dims,  obj='nce' ,\n",
    "                      feature_names=features,realval=realvalued)\n",
    "feat2vec_fm = feat2vec_obj.build_model(embed_dim, deep_out=False,bias_only=bias_only,embeddings_only=embeddings_only)\n",
    "print feat2vec_fm.summary()"
   ]
  },
  {
   "cell_type": "markdown",
   "metadata": {},
   "source": [
    "# Generate Implicit Samplers that Produce Negative Labels\n",
    "\n",
    "To sample negative labels, we need to choose hyperparameters that determine both how often we sample a given feature, and conditional on sampling a given feature, how often we sample the most popular ones. this parameter is the same as the flattening hyperparameter in word2vec, $Pr(w)$ $\\propto$ $|\\#w|^\\alpha$. Below we show graphically how this parameter changes sampling probabilities"
   ]
  },
  {
   "cell_type": "code",
   "execution_count": 9,
   "metadata": {
    "collapsed": false
   },
   "outputs": [
    {
     "data": {
      "image/png": "[encoded data removed]",
      "text/plain": [
       "<matplotlib.figure.Figure at 0x121a69fd0>"
      ]
     },
     "metadata": {},
     "output_type": "display_data"
    }
   ],
   "source": [
    "pr_item=[]\n",
    "pr_id = []\n",
    "pr_attr=[]\n",
    "pr_y = []\n",
    "stdout = sys.stdout\n",
    "sampled_feature_names = ['item','id','attrs','y']\n",
    "sys.stdout = open(os.devnull, 'w')\n",
    "for a in np.arange(0,1,.01):\n",
    "    tempprobs = implicitsampler.gen_step1_probs(feat2vec_fm,sampled_feature_names,a)\n",
    "    pr_item.append(tempprobs[sampled_feature_names.index('item')])\n",
    "    pr_id.append(tempprobs[sampled_feature_names.index('id')])\n",
    "    pr_attr.append(tempprobs[sampled_feature_names.index('attrs')])\n",
    "    pr_y.append(tempprobs[sampled_feature_names.index('y')])\n",
    "sys.stdout = stdout\n",
    "plt.plot(np.arange(0,1,.01),pr_id,label = 'ID')\n",
    "plt.plot(np.arange(0,1,.01),pr_item,label = 'Item')\n",
    "plt.plot(np.arange(0,1,.01),pr_attr,label = 'Attribute')\n",
    "plt.plot(np.arange(0,1,.01),pr_y,label = 'y')\n",
    "plt.legend()\n",
    "plt.xlabel(r'Flattening Parameter  $\\alpha_1$')\n",
    "plt.ylabel(r'$Pr($Choose Feature$ | \\alpha_1)$')\n",
    "plt.title(r'Feature choice probabilities in step 1 of sampling algorithm')\n",
    "plt.show()"
   ]
  },
  {
   "cell_type": "markdown",
   "metadata": {},
   "source": [
    "create the probabilities for step1 of our sampler which determines how likely a feature is resampled for producing a negative label. here we choose \n",
    "\n",
    "Pr(choose feature $j$) $\\propto$ $|j|^{.25}$\n",
    "\n",
    "where $|j|$ is the number of parameters associated with  of feature $j$"
   ]
  },
  {
   "cell_type": "code",
   "execution_count": 10,
   "metadata": {
    "collapsed": false
   },
   "outputs": [
    {
     "name": "stdout",
     "output_type": "stream",
     "text": [
      "--Original Probs--\n",
      "[ 0.15384615  0.76923077  0.04615385  0.03076923]\n",
      "--New Probs with alpha=0.25--\n",
      "[ 0.25613626  0.38301305  0.18956204  0.17128864]\n"
     ]
    }
   ],
   "source": [
    "feature_alpha=0.25\n",
    "step1_probs = implicitsampler.gen_step1_probs(feat2vec_fm,sampled_feature_names,feature_alpha)"
   ]
  },
  {
   "cell_type": "markdown",
   "metadata": {},
   "source": [
    "Split data into validation and training data"
   ]
  },
  {
   "cell_type": "code",
   "execution_count": 11,
   "metadata": {
    "collapsed": true
   },
   "outputs": [],
   "source": [
    "pct_train = .90\n",
    "train_sample = np.random.uniform(size=samplesize)\n",
    "train_sample = (train_sample <=np.percentile(train_sample,pct_train*100) ).astype('bool')\n",
    "train_data = data[train_sample==True]\n",
    "valid_data = data[train_sample==False]"
   ]
  },
  {
   "cell_type": "markdown",
   "metadata": {},
   "source": [
    "Create samplers from implicitsampler class . Here we pass the second main hyperparameter, $\\alpha_2=.25$ (sampling_alpha) to determine how much we flatten our empirical distribution that samples values for negative labels.\n",
    "\n",
    "* sampling_bias adds a minimum count to each unique value in the data to ensure very low frequency values get sampled enough\n",
    "\n",
    "* negative_samples is the number of negative samples per observed record\n",
    "\n",
    "* keep_noise_probs necessary if we use NCE, otherwise should not use."
   ]
  },
  {
   "cell_type": "code",
   "execution_count": 12,
   "metadata": {
    "collapsed": false
   },
   "outputs": [
    {
     "name": "stdout",
     "output_type": "stream",
     "text": [
      "no sampling_items passed; generating unique item sets from df passed\n",
      "[['item'], ['id'], ['attr1', 'attr2', 'attr3'], ['y']]\n",
      "generating probs for ['item']\n",
      "generating probs for ['id']\n",
      "generating probs for ['attr1', 'attr2', 'attr3']\n",
      "generating probs for ['y']\n",
      "calculating prob lookup dict for expedited sampling of negative labels...\n",
      "no sampling_items passed; generating unique item sets from df passed\n",
      "[['item'], ['id'], ['attr1', 'attr2', 'attr3'], ['y']]\n",
      "generating probs for ['item']\n",
      "generating probs for ['id']\n",
      "generating probs for ['attr1', 'attr2', 'attr3']\n",
      "generating probs for ['y']\n",
      "calculating prob lookup dict for expedited sampling of negative labels...\n"
     ]
    }
   ],
   "source": [
    "trainsampler = ImplicitSampler(train_data,model_features=model_features,sampling_features=sampling_features,\n",
    "                          batch_size=batch_size,                 \n",
    "                          sampling_alpha=.25,sampling_bias=10,\n",
    "                          negative_samples=neg_samples,\n",
    "                          init_probs = step1_probs,keep_noise_probs=feat2vec_obj.obj=='nce')\n",
    "validsampler = ImplicitSampler(valid_data,model_features=model_features,sampling_features=sampling_features,\n",
    "                          batch_size=batch_size,                 \n",
    "                          sampling_alpha=.25,sampling_bias=10,\n",
    "                          negative_samples=neg_samples,\n",
    "                          init_probs = step1_probs,keep_noise_probs=feat2vec_obj.obj=='nce')"
   ]
  },
  {
   "cell_type": "markdown",
   "metadata": {},
   "source": [
    "Finally, fit the model!"
   ]
  },
  {
   "cell_type": "code",
   "execution_count": 13,
   "metadata": {
    "collapsed": false
   },
   "outputs": [
    {
     "name": "stdout",
     "output_type": "stream",
     "text": [
      "Epoch 1/100\n",
      "45/45 [==============================] - 13s - loss: 2.5036 - acc: 0.2837 - val_loss: 2.0232 - val_acc: 0.3121\n",
      "Epoch 2/100\n",
      "45/45 [==============================] - 8s - loss: 2.1061 - acc: 0.4146 - val_loss: 1.4828 - val_acc: 0.4528\n",
      "Epoch 3/100\n",
      "45/45 [==============================] - 10s - loss: 1.6233 - acc: 0.6156 - val_loss: 1.1058 - val_acc: 0.7070\n",
      "Epoch 4/100\n",
      "45/45 [==============================] - 10s - loss: 1.3844 - acc: 0.7062 - val_loss: 0.9886 - val_acc: 0.7091\n",
      "Epoch 5/100\n",
      "45/45 [==============================] - 9s - loss: 1.3066 - acc: 0.7072 - val_loss: 0.9687 - val_acc: 0.7101\n",
      "Epoch 6/100\n",
      "45/45 [==============================] - 7s - loss: 1.2798 - acc: 0.7063 - val_loss: 0.9783 - val_acc: 0.7130\n"
     ]
    },
    {
     "data": {
      "text/plain": [
       "<keras.callbacks.History at 0x118299790>"
      ]
     },
     "execution_count": 13,
     "metadata": {},
     "output_type": "execute_result"
    }
   ],
   "source": [
    "callbacks = [keras.callbacks.EarlyStopping(monitor='val_loss', patience=0)]\n",
    "feat2vec_fm.compile(loss='binary_crossentropy', metrics=['accuracy'], optimizer=keras.optimizers.TFOptimizer(tf.train.AdamOptimizer()))\n",
    "\n",
    "feat2vec_fm.fit_generator(generator = trainsampler.keras_generator(),\n",
    "                          epochs=100, \n",
    "                          steps_per_epoch = len(train_data)/batch_size,\n",
    "                          validation_data=validsampler.keras_generator(),\n",
    "                          validation_steps =  len(valid_data)/batch_size,\n",
    "                          callbacks=callbacks,\n",
    "                          verbose=1,\n",
    "                          max_queue_size=1,\n",
    "                          workers=1,\n",
    "                          use_multiprocessing=True)"
   ]
  },
  {
   "cell_type": "markdown",
   "metadata": {},
   "source": [
    "# Example Usage : Look at cosine similarity of embeddings"
   ]
  },
  {
   "cell_type": "code",
   "execution_count": 14,
   "metadata": {
    "collapsed": false
   },
   "outputs": [],
   "source": [
    "#collect embeddings\n",
    "embeddings = []\n",
    "embed_names = ['dim_'+str(i) for i in range(1,embed_dim+1)]\n",
    "for j in feat2vec_obj.feature_names:\n",
    "    for l in feat2vec_fm.layers:\n",
    "         if l.name=='factor_{}'.format(j) or l.name=='embedding_{}'.format(j):\n",
    "                embedding = feat2vec_fm.get_layer(l.name).get_weights()[0]\n",
    "                embedding = pd.DataFrame(embedding,columns=embed_names)\n",
    "                embedding['value'] = [j +'_' + str(i) for i in embedding.index]\n",
    "                embeddings.append(embedding)\n",
    "embeddings = pd.concat(embeddings,ignore_index=True)"
   ]
  },
  {
   "cell_type": "code",
   "execution_count": 15,
   "metadata": {
    "collapsed": false
   },
   "outputs": [],
   "source": [
    "def kNN_embeddings(value,k):\n",
    "    embedding = embeddings.loc[embeddings['value']==value,embed_names]\n",
    "    scores = np.dot(embeddings[embed_names],embedding.T).flatten()\n",
    "    scores = np.array([s/(np.linalg.norm(embedding)*np.linalg.norm(embeddings.loc[i,embed_names])) for i,s in enumerate(scores)]).flatten()\n",
    "    temp = np.argsort(-scores)\n",
    "    ranks = np.empty(len(scores), int)\n",
    "    ranks[temp] = np.arange(len(scores))\n",
    "    for r in range(1,k+1):\n",
    "        print embeddings.loc[ranks==r,'value'].values,scores[ranks==r]"
   ]
  },
  {
   "cell_type": "markdown",
   "metadata": {},
   "source": [
    "Check out what the closest embeddings are to ID#5"
   ]
  },
  {
   "cell_type": "code",
   "execution_count": 16,
   "metadata": {
    "collapsed": false
   },
   "outputs": [
    {
     "name": "stdout",
     "output_type": "stream",
     "text": [
      "['id_35'] [ 0.94209772]\n",
      "['id_25'] [ 0.92919123]\n",
      "['id_24'] [ 0.9254151]\n",
      "['id_15'] [ 0.92391348]\n",
      "['id_29'] [ 0.92253888]\n"
     ]
    }
   ],
   "source": [
    "kNN_embeddings('id_5',5)"
   ]
  },
  {
   "cell_type": "code",
   "execution_count": 17,
   "metadata": {
    "collapsed": false,
    "scrolled": false
   },
   "outputs": [
    {
     "name": "stdout",
     "output_type": "stream",
     "text": [
      "['id_35'] [ 0.94209772]\n",
      "['id_25'] [ 0.92919123]\n",
      "['id_24'] [ 0.9254151]\n",
      "['id_15'] [ 0.92391348]\n",
      "['id_29'] [ 0.92253888]\n"
     ]
    }
   ],
   "source": [
    "kNN_embeddings('id_5',5)"
   ]
  },
  {
   "cell_type": "markdown",
   "metadata": {
    "collapsed": false
   },
   "source": [
    "It learned that $mod(10)$ IDs by the same items and have similar y!"
   ]
  },
  {
   "cell_type": "code",
   "execution_count": null,
   "metadata": {
    "collapsed": false
   },
   "outputs": [],
   "source": []
  },
  {
   "cell_type": "code",
   "execution_count": null,
   "metadata": {
    "collapsed": false
   },
   "outputs": [],
   "source": []
  },
  {
   "cell_type": "code",
   "execution_count": null,
   "metadata": {
    "collapsed": true
   },
   "outputs": [],
   "source": []
  }
 ],
 "metadata": {
  "anaconda-cloud": {},
  "kernelspec": {
   "display_name": "Python [Root]",
   "language": "python",
   "name": "Python [Root]"
  },
  "language_info": {
   "codemirror_mode": {
    "name": "ipython",
    "version": 2
   },
   "file_extension": ".py",
   "mimetype": "text/x-python",
   "name": "python",
   "nbconvert_exporter": "python",
   "pygments_lexer": "ipython2",
   "version": "2.7.12"
  }
 },
 "nbformat": 4,
 "nbformat_minor": 0
}
